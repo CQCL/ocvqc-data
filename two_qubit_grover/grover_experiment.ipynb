{
 "cells": [
  {
   "cell_type": "markdown",
   "id": "2da3e3bf",
   "metadata": {},
   "source": [
    "# Two Qubit Grover's Experiment\n",
    "Two qubit Grover's measurement patterns can be created as in the following cell. Please see [Blind three-qubit exact Grover search on a nitrogen-vacancy-center platform](https://journals.aps.org/pra/abstract/10.1103/PhysRevA.104.062422) for more details."
   ]
  },
  {
   "cell_type": "code",
   "execution_count": null,
   "id": "b0a11554",
   "metadata": {},
   "outputs": [],
   "source": [
    "from pytket_mbqc_py import TwoQubitGrover\n",
    "import networkx as nx\n",
    "\n",
    "graph_circuit = TwoQubitGrover(tau=2)\n",
    "nx.draw(graph_circuit.entanglement_graph, with_labels=True)"
   ]
  },
  {
   "cell_type": "markdown",
   "id": "b4af12b1",
   "metadata": {},
   "source": [
    "The circuits constructed, an results obtained, as part of our experiments are found in the following directories."
   ]
  },
  {
   "cell_type": "code",
   "execution_count": null,
   "id": "6545c37a",
   "metadata": {},
   "outputs": [],
   "source": [
    "import pandas as pd\n",
    "\n",
    "circuit_directory = \"grover_circuits\"\n",
    "\n",
    "backend_result_directory = {\n",
    "    'H1-1E': \"grover_emulator_results\",\n",
    "    'H1-1': \"grover_machine_results\",\n",
    "}\n",
    "\n",
    "circuit_df = pd.read_pickle(circuit_directory + \"/\" + \"circuit_info\" + \".pkl\")\n",
    "circuit_df"
   ]
  },
  {
   "cell_type": "markdown",
   "id": "fabf1a7c",
   "metadata": {},
   "source": [
    "The circuits themselves can be accesses as follows."
   ]
  },
  {
   "cell_type": "code",
   "execution_count": null,
   "id": "33e69b45",
   "metadata": {
    "scrolled": true
   },
   "outputs": [],
   "source": [
    "from pytket import Circuit\n",
    "import json\n",
    "from pytket.circuit.display import render_circuit_jupyter\n",
    "\n",
    "with open(f'{circuit_directory}/grover_2.json', 'r') as fp:\n",
    "    graph_circuit = Circuit.from_dict(json.load(fp))\n",
    "\n",
    "render_circuit_jupyter(graph_circuit)"
   ]
  },
  {
   "cell_type": "markdown",
   "id": "f3ecf31e",
   "metadata": {},
   "source": [
    "The results can be accessed as follows."
   ]
  },
  {
   "cell_type": "code",
   "execution_count": null,
   "id": "11ffea9f",
   "metadata": {},
   "outputs": [],
   "source": [
    "from pytket.backends.backendresult import BackendResult\n",
    "\n",
    "with open(f\"{backend_result_directory['H1-1']}/grover_2.json\", 'r') as fp:\n",
    "    result = BackendResult.from_dict(json.load(fp))\n",
    "    \n",
    "graph_circuit = TwoQubitGrover(tau=2)\n",
    "\n",
    "print(\"Compute round shots: \", graph_circuit.get_output_result(result).get_counts())\n",
    "print(\"Failure rate: \", graph_circuit.get_failure_rate(result))"
   ]
  }
 ],
 "metadata": {
  "kernelspec": {
   "display_name": "Python 3 (ipykernel)",
   "language": "python",
   "name": "python3"
  },
  "language_info": {
   "codemirror_mode": {
    "name": "ipython",
    "version": 3
   },
   "file_extension": ".py",
   "mimetype": "text/x-python",
   "name": "python",
   "nbconvert_exporter": "python",
   "pygments_lexer": "ipython3",
   "version": "3.11.7"
  }
 },
 "nbformat": 4,
 "nbformat_minor": 5
}
