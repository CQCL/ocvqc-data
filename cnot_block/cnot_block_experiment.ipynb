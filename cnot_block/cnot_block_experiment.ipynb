{
 "cells": [
  {
   "cell_type": "markdown",
   "id": "70232984",
   "metadata": {},
   "source": [
    "# CNOT Block Experiment\n",
    "CNOT block measurement patterns can be created as in the following cell."
   ]
  },
  {
   "cell_type": "code",
   "execution_count": null,
   "id": "cdc66c7f",
   "metadata": {},
   "outputs": [],
   "source": [
    "from pytket_mbqc_py.cnot_grid import CNOTBlock\n",
    "import networkx as nx\n",
    "\n",
    "graph_circuit = CNOTBlock(input_string=(0,1,0,1), n_layers=1, verify=True)\n",
    "nx.draw(graph_circuit.entanglement_graph, with_labels=True)"
   ]
  },
  {
   "cell_type": "markdown",
   "id": "c721f01a",
   "metadata": {},
   "source": [
    "The circuits constructed as part of our experiments are found in the following directories. Note that the circuits run on the machine are a subset of those run on the emulator."
   ]
  },
  {
   "cell_type": "code",
   "execution_count": null,
   "id": "2612850f",
   "metadata": {},
   "outputs": [],
   "source": [
    "import pandas as pd\n",
    "\n",
    "circuit_directory = \"verification_circuits_decompose_test\"\n",
    "machine_circuit_directory = \"machine_verification_circuits_decompose_test\"\n",
    "\n",
    "circuit_df = pd.read_pickle(machine_circuit_directory + \"/\" + \"circuit_info\" + \".pkl\")\n",
    "circuit_df"
   ]
  },
  {
   "cell_type": "markdown",
   "id": "b87f78ff",
   "metadata": {},
   "source": [
    "The circuits themselves can be accesses as follows."
   ]
  },
  {
   "cell_type": "code",
   "execution_count": null,
   "id": "a6a6bed1",
   "metadata": {},
   "outputs": [],
   "source": [
    "from pytket import Circuit\n",
    "import json\n",
    "from pytket.circuit.display import render_circuit_jupyter\n",
    "\n",
    "with open(f'{machine_circuit_directory}/4_1_5.json', 'r') as fp:\n",
    "    graph_circuit = Circuit.from_dict(json.load(fp))\n",
    "\n",
    "render_circuit_jupyter(graph_circuit)"
   ]
  },
  {
   "cell_type": "markdown",
   "id": "c657cb62",
   "metadata": {},
   "source": [
    "The results can be accessed as follows."
   ]
  },
  {
   "cell_type": "code",
   "execution_count": null,
   "id": "a723520a",
   "metadata": {},
   "outputs": [],
   "source": [
    "from pytket.backends.backendresult import BackendResult\n",
    "\n",
    "result_directory = \"verification_results_decompose_test\"\n",
    "machine_result_directory = \"machine_verification_results_decompose_test\"\n",
    "\n",
    "with open(f\"{machine_result_directory}/4_1_5.json\", 'r') as fp:\n",
    "    result = BackendResult.from_dict(json.load(fp))\n",
    "    \n",
    "graph_circuit = CNOTBlock(input_string=(0,1,0,1), n_layers=1, verify=True)\n",
    "\n",
    "print(\"Ideal outcome: \", graph_circuit.ideal_outcome)\n",
    "print(\"Compute round shots: \", graph_circuit.get_output_result(result).get_counts())\n",
    "print(\"Failure rate: \", graph_circuit.get_failure_rate(result))"
   ]
  }
 ],
 "metadata": {
  "kernelspec": {
   "display_name": "Python 3 (ipykernel)",
   "language": "python",
   "name": "python3"
  },
  "language_info": {
   "codemirror_mode": {
    "name": "ipython",
    "version": 3
   },
   "file_extension": ".py",
   "mimetype": "text/x-python",
   "name": "python",
   "nbconvert_exporter": "python",
   "pygments_lexer": "ipython3",
   "version": "3.11.7"
  }
 },
 "nbformat": 4,
 "nbformat_minor": 5
}
